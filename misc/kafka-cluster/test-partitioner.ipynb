{
 "cells": [
  {
   "cell_type": "code",
   "execution_count": 1,
   "metadata": {},
   "outputs": [],
   "source": [
    "from kafka import KafkaProducer\n",
    "from kafka.partitioner import DefaultPartitioner, Murmur2Partitioner, RoundRobinPartitioner\n",
    "from kafka import TopicPartition"
   ]
  },
  {
   "cell_type": "code",
   "execution_count": 2,
   "metadata": {},
   "outputs": [],
   "source": [
    "def publish_message(producer_instance, topic_name, key, value):\n",
    "    try:\n",
    "        key_bytes = bytes(key, encoding = 'utf-8')\n",
    "        value_bytes = bytes(value, encoding = 'utf-8')\n",
    "        x = producer_instance.send(topic_name, value = value_bytes)\n",
    "        producer_instance.flush()\n",
    "        return x\n",
    "    except Exception as ex:\n",
    "        print('Exception in publishing message')\n",
    "        print(str(ex))\n",
    "\n",
    "\n",
    "def connect_kafka_producer():\n",
    "    print('connecting to kafka')\n",
    "    _producer = None\n",
    "    try:\n",
    "        _producer = KafkaProducer(\n",
    "            bootstrap_servers = ['kafka:9092'], api_version = (0, 10),\n",
    "            partitioner = RoundRobinPartitioner()\n",
    "        )\n",
    "    except Exception as ex:\n",
    "        print('Exception while connecting Kafka')\n",
    "        print(str(ex))\n",
    "    finally:\n",
    "        print('successfully connected to kafka')\n",
    "        return _producer"
   ]
  },
  {
   "cell_type": "code",
   "execution_count": 3,
   "metadata": {},
   "outputs": [
    {
     "name": "stdout",
     "output_type": "stream",
     "text": [
      "connecting to kafka\n",
      "successfully connected to kafka\n"
     ]
    }
   ],
   "source": [
    "kafka_producer = connect_kafka_producer()"
   ]
  },
  {
   "cell_type": "code",
   "execution_count": 4,
   "metadata": {},
   "outputs": [
    {
     "data": {
      "text/plain": [
       "{0, 1, 2}"
      ]
     },
     "execution_count": 4,
     "metadata": {},
     "output_type": "execute_result"
    }
   ],
   "source": [
    "kafka_producer.partitions_for('polarities')"
   ]
  },
  {
   "cell_type": "code",
   "execution_count": 5,
   "metadata": {},
   "outputs": [],
   "source": [
    "from kafka import KafkaConsumer"
   ]
  },
  {
   "cell_type": "code",
   "execution_count": 23,
   "metadata": {},
   "outputs": [
    {
     "data": {
      "text/plain": [
       "RecordMetadata(topic='polarities', partition=1, topic_partition=TopicPartition(topic='polarities', partition=1), offset=9, timestamp=1550384250389, checksum=1138447739, serialized_key_size=-1, serialized_value_size=9, serialized_header_size=-1)"
      ]
     },
     "execution_count": 23,
     "metadata": {},
     "output_type": "execute_result"
    }
   ],
   "source": [
    "publish_message(kafka_producer, 'polarities', 'polarity', 'testing10').get(timeout=10)"
   ]
  },
  {
   "cell_type": "code",
   "execution_count": 22,
   "metadata": {},
   "outputs": [
    {
     "data": {
      "text/plain": [
       "RecordMetadata(topic='polarities', partition=0, topic_partition=TopicPartition(topic='polarities', partition=0), offset=5, timestamp=1550384245998, checksum=3836992277, serialized_key_size=-1, serialized_value_size=8, serialized_header_size=-1)"
      ]
     },
     "execution_count": 22,
     "metadata": {},
     "output_type": "execute_result"
    }
   ],
   "source": [
    "publish_message(kafka_producer, 'polarities', 'polarity', 'testing9').get(timeout=10)"
   ]
  },
  {
   "cell_type": "code",
   "execution_count": 17,
   "metadata": {},
   "outputs": [],
   "source": [
    "consumer = KafkaConsumer(\n",
    "    auto_offset_reset = 'earliest',\n",
    "    bootstrap_servers = ['kafka:9092'],\n",
    "    partition_assignment_strategy = ['RoundRobinPartitionAssignor'],\n",
    "    api_version = (0, 10),\n",
    "    consumer_timeout_ms = 1000,\n",
    ")\n",
    "consumer.assign([TopicPartition(topic='polarities',partition=0)])"
   ]
  },
  {
   "cell_type": "code",
   "execution_count": 18,
   "metadata": {},
   "outputs": [],
   "source": [
    "consumer2 = KafkaConsumer(\n",
    "    auto_offset_reset = 'earliest',\n",
    "    bootstrap_servers = ['kafka:9092'],\n",
    "    partition_assignment_strategy = ['RoundRobinPartitionAssignor'],\n",
    "    api_version = (0, 10),\n",
    "    consumer_timeout_ms = 1000,\n",
    ")\n",
    "consumer2.assign([TopicPartition(topic='polarities',partition=1)])"
   ]
  },
  {
   "cell_type": "code",
   "execution_count": 24,
   "metadata": {},
   "outputs": [
    {
     "name": "stdout",
     "output_type": "stream",
     "text": [
      "['testing9']\n"
     ]
    }
   ],
   "source": [
    "print([msg.value.decode('utf-8') for msg in consumer])"
   ]
  },
  {
   "cell_type": "code",
   "execution_count": 25,
   "metadata": {},
   "outputs": [
    {
     "name": "stdout",
     "output_type": "stream",
     "text": [
      "['testing10']\n"
     ]
    }
   ],
   "source": [
    "print([msg.value.decode('utf-8') for msg in consumer2])"
   ]
  },
  {
   "cell_type": "code",
   "execution_count": 12,
   "metadata": {},
   "outputs": [],
   "source": [
    "consumer2.assign([TopicPartition(topic='polarities',partition=0)])"
   ]
  },
  {
   "cell_type": "code",
   "execution_count": 13,
   "metadata": {},
   "outputs": [],
   "source": [
    "consumer.assign([TopicPartition(topic='polarities',partition=1)])"
   ]
  },
  {
   "cell_type": "code",
   "execution_count": 14,
   "metadata": {},
   "outputs": [
    {
     "data": {
      "text/plain": [
       "{TopicPartition(topic='polarities', partition=0)}"
      ]
     },
     "execution_count": 14,
     "metadata": {},
     "output_type": "execute_result"
    }
   ],
   "source": [
    "consumer2.assignment()"
   ]
  },
  {
   "cell_type": "code",
   "execution_count": 15,
   "metadata": {},
   "outputs": [
    {
     "data": {
      "text/plain": [
       "{TopicPartition(topic='polarities', partition=1)}"
      ]
     },
     "execution_count": 15,
     "metadata": {},
     "output_type": "execute_result"
    }
   ],
   "source": [
    "consumer.assignment()"
   ]
  },
  {
   "cell_type": "code",
   "execution_count": null,
   "metadata": {},
   "outputs": [],
   "source": []
  },
  {
   "cell_type": "code",
   "execution_count": 16,
   "metadata": {},
   "outputs": [
    {
     "data": {
      "text/plain": [
       "{}"
      ]
     },
     "execution_count": 16,
     "metadata": {},
     "output_type": "execute_result"
    }
   ],
   "source": [
    "consumer2.poll()"
   ]
  },
  {
   "cell_type": "code",
   "execution_count": null,
   "metadata": {},
   "outputs": [],
   "source": []
  }
 ],
 "metadata": {
  "kernelspec": {
   "display_name": "Python 3",
   "language": "python",
   "name": "python3"
  },
  "language_info": {
   "codemirror_mode": {
    "name": "ipython",
    "version": 3
   },
   "file_extension": ".py",
   "mimetype": "text/x-python",
   "name": "python",
   "nbconvert_exporter": "python",
   "pygments_lexer": "ipython3",
   "version": "3.5.3"
  }
 },
 "nbformat": 4,
 "nbformat_minor": 2
}
